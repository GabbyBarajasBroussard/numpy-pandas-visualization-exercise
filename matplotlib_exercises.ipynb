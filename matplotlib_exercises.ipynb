{
 "cells": [
  {
   "cell_type": "markdown",
   "metadata": {},
   "source": [
    "Use matplotlib to plot the following equation:\n",
    "\n",
    "y = x2−x+ 2\n",
    "You'll need to write the code that generates the x and y points.\n",
    "\n",
    "Add an anotation for the point 0, 0, the origin."
   ]
  },
  {
   "cell_type": "code",
   "execution_count": 1,
   "metadata": {},
   "outputs": [],
   "source": [
    "import matplotlib.pyplot as plt\n",
    "import math"
   ]
  },
  {
   "cell_type": "code",
   "execution_count": 14,
   "metadata": {},
   "outputs": [
    {
     "data": {
      "text/plain": [
       "Text(-3, 5, 'Origin')"
      ]
     },
     "execution_count": 14,
     "metadata": {},
     "output_type": "execute_result"
    },
    {
     "data": {
      "image/png": "[encoded data removed]",
      "text/plain": [
       "<Figure size 432x288 with 1 Axes>"
      ]
     },
     "metadata": {
      "needs_background": "light"
     },
     "output_type": "display_data"
    }
   ],
   "source": [
    "x= list(range(-20, 20))\n",
    "y= [(c ** c -(c +2)) for c in x]\n",
    "plt.title('(x^2)-x+2')\n",
    "plt.xlabel('x axis')\n",
    "plt.ylabel('y axis')\n",
    "plt.plot(x,y)\n",
    "plt.ylim(-10, 20)\n",
    "plt.xlim(-5, 5)\n",
    "plt.annotate('Origin', xy=(0, 0), xytext=(-3, 5),\n",
    "             arrowprops={'facecolor': 'pink'})"
   ]
  },
  {
   "cell_type": "markdown",
   "metadata": {},
   "source": [
    "Create and label 4 separate charts for the following equations (choose a range for x that makes sense):\n",
    "\n",
    "y\n",
    "=\n",
    "√\n",
    "x\n",
    "y\n",
    "=\n",
    "x\n",
    "3\n",
    "y\n",
    "=\n",
    "2\n",
    "x\n",
    "y\n",
    "=\n",
    "1\n",
    "/\n",
    "(\n",
    "x\n",
    "+\n",
    "1\n",
    ")\n",
    "You can use functions from the math module to help implement some of the equations above.\n",
    "\n",
    "Combine the figures you created in the last step into one large figure with 4 subplots.\n",
    "\n",
    "Combine the figures you created in the last step into one figure where each of the 4 equations has a different color for the points. Be sure to include a legend and an appropriate title for the figure.\n",
    "\n",
    "Make a new Jupyter notebook named big_o_notation.ipynb\n",
    "\n",
    "Title your chart \"Big O Notation\"\n",
    "Label your x axis \"Elements\"\n",
    "Label your y axis \"Operations\"\n",
    "Label your curves or make a legend for the curves\n",
    "Use LaTex notation where possible\n",
    "Curves to graph\n",
    "\n",
    "y\n",
    "=\n",
    "0\n",
    "x\n",
    "+\n",
    "1\n",
    " and label the curve \"O(1)\"\n",
    "y\n",
    "=\n",
    "l\n",
    "o\n",
    "g\n",
    "(\n",
    "x\n",
    ")\n",
    " and label the curve \"O(log n)\"\n",
    "y\n",
    "=\n",
    "x\n",
    " and label the curve \"O(n)\"\n",
    "y\n",
    "=\n",
    "x\n",
    "∗\n",
    "l\n",
    "o\n",
    "g\n",
    "(\n",
    "x\n",
    ")\n",
    " and label it \"O(n log n)\"\n",
    "y\n",
    "=\n",
    "x\n",
    "2\n",
    " and label it \"O(n^2)\"\n",
    "y\n",
    "=\n",
    "2\n",
    "x\n",
    " and label it \"O(2^n)\"\n",
    "y\n",
    "=\n",
    "n\n",
    "!\n",
    " and label it \"O(n!)\"\n",
    "y\n",
    "=\n",
    "n\n",
    "n\n",
    " and label it \"O(n^n)\"\n",
    "Bonus Write the code necessary to write your name on a chart. Use box letters.\n",
    "\n",
    "Bonus: use curves for letters in your name that have curves in them."
   ]
  }
 ],
 "metadata": {
  "kernelspec": {
   "display_name": "Python 3",
   "language": "python",
   "name": "python3"
  },
  "language_info": {
   "codemirror_mode": {
    "name": "ipython",
    "version": 3
   },
   "file_extension": ".py",
   "mimetype": "text/x-python",
   "name": "python",
   "nbconvert_exporter": "python",
   "pygments_lexer": "ipython3",
   "version": "3.7.6"
  }
 },
 "nbformat": 4,
 "nbformat_minor": 4
}
